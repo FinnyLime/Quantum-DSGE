{
 "cells": [
  {
   "cell_type": "markdown",
   "id": "3bb4bec9",
   "metadata": {},
   "source": [
    "## Solving Utility Maximization Problem with Quantum Reinforcement Learning"
   ]
  },
  {
   "cell_type": "markdown",
   "id": "b2b17c25",
   "metadata": {},
   "source": [
    "In general markets, the competitive equilibrium, or more generally, Dynamic Stochastic General Equilibrium (DSGE) is characterized by a set of state variables and the consumption and production plans of each agent to maximize the utility. Such utility maximization problem has been traditionally dealt with Lagrangian methods. In this Hackathon project, we demonstrate **a quantum approach to solving utility maximization problem.**"
   ]
  },
  {
   "cell_type": "markdown",
   "id": "f0dfa3d8",
   "metadata": {},
   "source": [
    "### References"
   ]
  },
  {
   "cell_type": "markdown",
   "id": "de4c1170",
   "metadata": {},
   "source": [
    "[1] Hill, Edward, Marco Bardoscia, and Arthur Turrell. \"Solving heterogeneous general equilibrium economic models with deep reinforcement learning.\" arXiv preprint [arXiv:2103.16977 (2021)](https://arxiv.org/pdf/2103.16977.pdf).\n",
    "\n",
    "[2] Wu, Shaojun, et al. \"Quantum reinforcement learning in continuous action space.\" arXiv preprint [arXiv:2012.10711 (2020)](https://arxiv.org/pdf/2012.10711.pdf).\n",
    "\n",
    "[3] https://github.com/LauraGentini/QRL (Qiskit Hackathon Europe on Quantum Reinforcement Learning)\n"
   ]
  },
  {
   "cell_type": "markdown",
   "id": "623136bd",
   "metadata": {},
   "source": [
    "### Model"
   ]
  },
  {
   "cell_type": "markdown",
   "id": "5c499180",
   "metadata": {},
   "source": [
    "We first constructed a simplified model of DSGE problem based on the recent work done by researchers at University of College, London [1]. In our model, we assume a single, rational household agent, and a single firm existing in the market. The agent is employed by the firm, and the utility per period is given by $u_t=\\textrm{ln}(c_{t})-\\frac{\\theta}{2}n_t^2$, with the action variables $c_{t}$, representing consumption, and $n_t$, the number of hours worked. We use a discrete timestep over $0\\leq t<T$. The price is fixed for $p_{t}=1$ for all times, with no interest rate. The wage is given by $w=1$ for $t<T/2$ and $w=0.5$ afterwards. The agent is also subject to a budget constraint $b_{t+1}=b_t+w_tn_t-p_tc_t$, with the no Ponzi condition $b_T=0$ to preempt unlimited borrowing by the agent. The agent wants to maximize the dicsounted utility $\\sum_t \\beta^t u_t$ with $\\beta=0.97$ and $T=20$. To summarize:\n",
    "\n",
    "* A single agent and a single firm\n",
    "* Maximize $\\sum_{t=0}^{T} \\beta^t u_t$, where $u_t=\\textrm{ln}(c_{t})-\\frac{\\theta}{2}n_t^2$, $\\beta=0.97$ and $T=20$\n",
    "* Budget Constraints $b_{t+1}=b_t+w_tn_t-p_tc_t$; $b_T=0$, where $p_{t}=1$, $w=1$ or $0.5$\n",
    "\n",
    "There have been some attempts to solve this type of problem using classical machine learning or numerical analysis, but Quantum approach to such problems is absent. We applied Quantum Reinforcement Learning technique to solve the problem. Before we explain our solution, we first present some preliminaries on Reinforcement Learning necessary to understand our approach.\n"
   ]
  },
  {
   "cell_type": "markdown",
   "id": "60c80fe1",
   "metadata": {},
   "source": [
    "### Reinforcement Learning"
   ]
  },
  {
   "cell_type": "markdown",
   "id": "2308572e",
   "metadata": {},
   "source": [
    "In Reinforcement Learning problems, there are states, and actions that the agent perform at each time step. The agent is given some rewards upon performing each action. Our goal is to find a set of states and actions that maximize the total rewards over the entire period. To be more mathematically precise, we have to introduce the concept of [Markov Decision Process](https://en.wikipedia.org/wiki/Markov_decision_process) (MDP). A MDP problem is completely characterized by $(S,A,R,P,\\gamma)$, where $S$ is the state space, $A$ is the action space, $R$ represents a reward as a function of the current state and the chosen action, $P$ represents a transition probability given (state, action), and $\\gamma$ is the discount factor. The objective function we want to maximize is the value function, the expectation value of total rewards over all times, which is given as follows:\n",
    "$$V(s)=E\\biggl[\\sum_{t\\geq 0}\\gamma^t r_t|s_0=s\\biggr].$$\n",
    "\n",
    "While the value function is a measure of how preferrable each state is, it's actually more important to identify how preferaable each (state, action) pair is. The measure of such preferrability of (state,action) pair is given by the Q-value function, which is defined as\n",
    "$$Q(s)=E\\biggl[\\sum_{t\\geq 0}\\gamma^t r_t|s_0=s, a_0=a\\biggr].$$\n",
    "\n",
    "Machine Learning technique that attempts to systematically learn this Q-value function is known as Q-learning. Q-learning is also a method that we utilized in this hackathon project to solve our problem."
   ]
  },
  {
   "cell_type": "markdown",
   "id": "274564ea",
   "metadata": {},
   "source": [
    "### Quantum Reinforcement Learning"
   ]
  },
  {
   "attachments": {},
   "cell_type": "markdown",
   "id": "97d16341",
   "metadata": {},
   "source": [
    "<div style=\"max-width:500px; margin: 0 auto;\">\n",
    "    <img  src=\"attachment:images/fig1.png\" width=\"500\"/>\n",
    "</div>\n",
    "<center>Figure1. Quantum Reinforcement Learning Model [1]</center>"
   ]
  },
  {
   "cell_type": "markdown",
   "id": "cd039da5",
   "metadata": {},
   "source": [
    "Quantum Reinforcement Learning model is virtually same as its classical counterpart, except for the fact that states are now represented and quantum states. As described in Figure1, there is an agent interacting with the environment, which is characterized by its state. The agent's action influences the environment, and this action is determined by the *policy*, which is chosen to maximize the expected reward over all times. The Quantum Circuit implementing this framework is shown below."
   ]
  },
  {
   "attachments": {},
   "cell_type": "markdown",
   "id": "eaf1859e",
   "metadata": {},
   "source": [
    "<div style=\"max-width:500px; margin: 0 auto;\">\n",
    "    <img  src=\"attachment:images/fig2.png\" width=\"500\"/>\n",
    "</div>\n",
    "<center>Figure2. Quantum Circuit for QRL model [1]</center>"
   ]
  },
  {
   "cell_type": "markdown",
   "id": "88384513",
   "metadata": {},
   "source": [
    "In the above, the reward is calculated through a proper choice of $U_r$ and the measurement operator $M$, and the transition of states over time is given by $\\theta_t$, where $\\theta_t$ represents the agent's action. $\\theta_t$ is trained by a separate Quantum DDPG (Deep Deterministic Policy Gradient) algoritm. After enough amount of training on the policy determining the agent's action $\\theta_t$ given $s_t$, we're then equipped with the Quantum Neural Network to easily *tell* someone the best action to maximize their lifetime *reward* or *utility*. Pseudocode of Quantum DDPG algorithm is shown below [1]. Essentially, it's about training the Q-value function $Q_\\omega(s,\\theta)$ and the policy function $\\pi_\\eta(s)$."
   ]
  },
  {
   "attachments": {},
   "cell_type": "markdown",
   "id": "a6ba84ed",
   "metadata": {},
   "source": [
    "<div style=\"max-width:500px; margin: 0 auto;\">\n",
    "    <img  src=\"attachment:images/fig3.png\" width=\"500\"/>\n",
    "</div>\n",
    "<center>Figure3. Quantum DDPG algorithm [1]</center>"
   ]
  },
  {
   "cell_type": "markdown",
   "id": "c2367d4d",
   "metadata": {},
   "source": [
    "### Our solution"
   ]
  },
  {
   "cell_type": "markdown",
   "id": "54fd8c7f",
   "metadata": {},
   "source": [
    "As we're solving Quantum Reinforcement Learning problem, it's essential to define (1) rewards, (2) actions, and (3) states. Reward is straightforwardly given by the utility function. Actions, as specified in the problem statement, consist of consumption and the number of hours worked. We're now left with properly defining the states, and encoding these states into our Quantum Circuit. We first note that the agent's state is completely characterized by specifying $b_t$ and $c_t$ at all times, since $n_t$ could be calculated from the budget constraints. We now encode our state as $$ \\left| \\psi \\right\\rangle = \\textrm{cos}\\frac{\\theta}{2}\\left| 0 \\right\\rangle+e^{i\\phi}\\textrm{sin}\\frac{\\theta}{2}\\left| 1 \\right\\rangle,$$ where $b_t=\\textrm{tan}\\theta$ and $c_t=\\textrm{tan}{(\\phi/4)}$, with $-\\pi/2<\\theta<\\pi/2$ and $0\\leq\\phi\\leq2\\pi$. Through this encoding, we can encode the entirety of our state with a single qubit. Note that the reward is computed as the utility function without resorting to $U_r$ and $M$, and is assumed to be negative infinity for states that do NOT satisfy the budget constraint or $n_t\\geq0$. Encoding the state with such Bloch angles also makes the transition of states, $U(\\theta_t)$, easy to implement, as this transition can be implemented only with the rotations around $x,y,$ and $z$ axes on the Bloch sphere. With this Quantum Reinforcement Learning architecture and the encoding of states, we employed to Quantum DDPG algorithm to learn the Q-value function and the policy. In the final and last section of this notebook, we present our concrete implementation of Quantum Reinforcement Learning for solving our macroeconomic model."
   ]
  },
  {
   "cell_type": "markdown",
   "id": "f66eeea5",
   "metadata": {},
   "source": [
    "## Codes with Comments"
   ]
  },
  {
   "cell_type": "markdown",
   "id": "3de3092a",
   "metadata": {},
   "source": [
    "### Import relevant packages"
   ]
  },
  {
   "cell_type": "code",
   "execution_count": 1,
   "id": "a9308ce2",
   "metadata": {},
   "outputs": [],
   "source": [
    "# General imports\n",
    "import numpy as np\n",
    "import matplotlib.pyplot as plt\n",
    "\n",
    "# Qiskit Circuit imports\n",
    "from qiskit.circuit import QuantumCircuit, QuantumRegister, Parameter, ParameterVector, ParameterExpression\n",
    "from qiskit.circuit.library import TwoLocal\n",
    "\n",
    "# Qiskit imports\n",
    "import qiskit as qk\n",
    "from qiskit.utils import QuantumInstance\n",
    "from qiskit import Aer\n",
    "from qiskit.tools.visualization import circuit_drawer\n",
    "from qiskit.quantum_info import state_fidelity\n",
    "from qiskit import BasicAer\n",
    "from qiskit.providers.aer.noise import NoiseModel, amplitude_damping_error\n",
    "\n",
    "\n",
    "# Qiskit Machine Learning imports\n",
    "import qiskit_machine_learning as qkml\n",
    "from qiskit_machine_learning.neural_networks import CircuitQNN\n",
    "from qiskit_machine_learning.connectors import TorchConnector\n",
    "\n",
    "# PyTorch imports\n",
    "import torch\n",
    "from torch import nn\n",
    "import torch.optim as optim\n",
    "import torch.nn.functional as F\n",
    "\n",
    "\n",
    "from math import pi\n",
    "from math import *"
   ]
  },
  {
   "cell_type": "markdown",
   "id": "c3a89de6",
   "metadata": {},
   "source": [
    "### Define sub-circuits for encoding states and training the policy"
   ]
  },
  {
   "cell_type": "code",
   "execution_count": 2,
   "id": "89a4cac9",
   "metadata": {},
   "outputs": [],
   "source": [
    "def encoding_circuit(inputs, num_qubits = 1, *args):\n",
    "    \"\"\"\n",
    "    Encode classical input data (i.e. the state of the enironment) on a quantum circuit. \n",
    "    To be used inside the `parametrized_circuit` function. \n",
    "    \n",
    "    Args\n",
    "    -------\n",
    "    inputs (list): a list containing the classical inputs.\n",
    "    num_qubits (int): number of qubits in the quantum circuit.\n",
    "    \n",
    "    Return\n",
    "    -------\n",
    "    qc (QuantumCircuit): quantum circuit with encoding gates.\n",
    "    \n",
    "    \"\"\"\n",
    "    \n",
    "    qc = qk.QuantumCircuit(num_qubits)\n",
    "    \n",
    "    # Encode data with a RX rotation\n",
    "    for i in range(num_qubits): \n",
    "        qc.u(inputs[i*2],inputs[i*2+1],0,i)\n",
    "        \n",
    "    return qc\n",
    "\n",
    "def action_circuit(num_qubits = 1,*args):\n",
    "    ac = qk.QuantumRegister(num_qubits)\n",
    "    qc = qk.QuantumCircuit(ac)\n",
    "    input = qk.circuit.ParameterVector('x', 4*num_qubits)\n",
    "    for i in range(num_qubits): \n",
    "        qc.rx(input[4*i], i)\n",
    "        qc.rz(input[4*i+1], i)\n",
    "        qc.u(input[4*i+2],input[4*i+3],0,i)\n",
    "    return qc"
   ]
  },
  {
   "cell_type": "code",
   "execution_count": 3,
   "id": "d5107375",
   "metadata": {},
   "outputs": [],
   "source": [
    "def parametrized_circuit(num_qubits = 1, reps = 1, insert_barriers = True, ):\n",
    "    \"\"\"\n",
    "    Create the Parameterized Quantum Circuit (PQC) for estimating Q-values.\n",
    "    It implements the architecure proposed in Skolik et al. arXiv:2104.15084.\n",
    "    \n",
    "    Args\n",
    "    -------\n",
    "    num_qubit (int): number of qubits in the quantum circuit. \n",
    "\n",
    "    reps (int): number of repetitions (layers) in the variational circuit. \n",
    "    insert_barrirerd (bool): True to add barriers in between gates, for better drawing of the circuit. \n",
    "\n",
    "    \n",
    "    Return\n",
    "    -------\n",
    "    qc (QuantumCircuit): the full parametrized quantum circuit. \n",
    "    \"\"\"\n",
    "    \n",
    "    qr = qk.QuantumRegister(num_qubits)\n",
    "    qc = qk.QuantumCircuit(qr)\n",
    "          \n",
    "    # Define a vector containg Inputs as parameters (*not* to be optimized)\n",
    "    inputs = qk.circuit.ParameterVector('x', 2*num_qubits)\n",
    "            \n",
    "    # Define a vector containng variational parameters\n",
    "    θ = qk.circuit.ParameterVector('θ', 3 * num_qubits * reps)\n",
    "    qc.compose(encoding_circuit(inputs, num_qubits = num_qubits), inplace = True)\n",
    "    if insert_barriers: qc.barrier()\n",
    "    \n",
    "    # Iterate for a number of repetitions\n",
    "    for rep in range(reps):\n",
    "\n",
    "        # Encode classical input data\n",
    "\n",
    "            \n",
    "        # Variational circuit (does the same as TwoLocal from Qiskit)\n",
    "        for qubit in range(num_qubits):\n",
    "            qc.rx(θ[qubit + 3*num_qubits*(rep)], qubit)\n",
    "            qc.rz(θ[qubit + 3*num_qubits*(rep) + num_qubits], qubit)\n",
    "            qc.rx(θ[qubit + 3*num_qubits*(rep) + 2*num_qubits], qubit)\n",
    "        if insert_barriers: qc.barrier()\n",
    "            \n",
    "        # Add entanglers (this code is for a circular entangler)\n",
    "        if num_qubits>2:\n",
    "            qc.cnot(qr[-1], qr[0])\n",
    "            for qubit in range(num_qubits-1):\n",
    "                qc.cnot(qr[qubit], qr[qubit+1])\n",
    "            if insert_barriers: qc.barrier()\n",
    "        elif num_qubits==2:\n",
    "            qc.cnot(qr[-1], qr[0])\n",
    "        \n",
    "    return qc"
   ]
  },
  {
   "cell_type": "code",
   "execution_count": 4,
   "id": "ff3ece2c",
   "metadata": {},
   "outputs": [
    {
     "data": {
      "image/png": "[encoded data removed]",
      "text/plain": [
       "<Figure size 882.178x144.48 with 1 Axes>"
      ]
     },
     "execution_count": 4,
     "metadata": {},
     "output_type": "execute_result"
    }
   ],
   "source": [
    "# Select the number of qubits\n",
    "num_qubits = 1\n",
    "\n",
    "# Generate the Parametrized Quantum Circuit (note the flags reuploading and reps)\n",
    "policy_qc = parametrized_circuit(num_qubits = num_qubits, \n",
    "                          reps = 2)\n",
    "\n",
    "value_qc=parametrized_circuit(num_qubits = 2*num_qubits, \n",
    "                          reps = 2)\n",
    "\n",
    "# Fetch the parameters from the circuit and divide them in Inputs (X) and Trainable Parameters (params)\n",
    "# The first four parameters are for the inputs \n",
    "policy_X = list(policy_qc.parameters)[: 2*num_qubits]\n",
    "value_X=list(value_qc.parameters)[: 4*num_qubits]\n",
    "\n",
    "# The remaining ones are the trainable weights of the quantum neural network\n",
    "policy_params = list(policy_qc.parameters)[num_qubits:]\n",
    "value_params=list(value_qc.parameters)[2*num_qubits:]\n",
    "\n",
    "policy_qc.draw('mpl')\n",
    "value_qc.draw('mpl')"
   ]
  },
  {
   "cell_type": "code",
   "execution_count": 5,
   "id": "632ba22c",
   "metadata": {},
   "outputs": [
    {
     "data": {
      "image/png": "[encoded data removed]",
      "text/plain": [
       "<Figure size 327.397x84.28 with 1 Axes>"
      ]
     },
     "execution_count": 5,
     "metadata": {},
     "output_type": "execute_result"
    }
   ],
   "source": [
    "action_qc=action_circuit(num_qubits=num_qubits)\n",
    "action_X=list(action_qc.parameters)\n",
    "action_qc.draw('mpl')"
   ]
  },
  {
   "cell_type": "code",
   "execution_count": 6,
   "id": "3f52556d",
   "metadata": {},
   "outputs": [],
   "source": [
    "# Select a quantum backend to run the simulation of the quantum circuit\n",
    "qi = QuantumInstance(qk.BasicAer.get_backend('statevector_simulator'))\n",
    "\n",
    "# Create a Quantum Neural Network object starting from the quantum circuit defined above\n",
    "policy_qnn = CircuitQNN(policy_qc, input_params=policy_X, weight_params=policy_params, \n",
    "                 quantum_instance = qi)\n",
    "\n",
    "value_qnn = CircuitQNN(value_qc, input_params=value_X, weight_params=value_params, \n",
    "                 quantum_instance = qi)\n",
    "\n",
    "action_qnn= CircuitQNN(action_qc, input_params=action_X,quantum_instance = qi)\n",
    "\n",
    "\n",
    "policy_initial = 0.1*(2*torch.rand(policy_qnn.num_weights) - 1)\n",
    "policy_nn = TorchConnector(policy_qnn, policy_initial)\n",
    "\n",
    "value_initial = 0.1*(2*torch.rand(value_qnn.num_weights) - 1)\n",
    "value_nn = TorchConnector(value_qnn, value_initial)\n",
    "\n",
    "action_nn=TorchConnector(action_qnn)"
   ]
  },
  {
   "cell_type": "markdown",
   "id": "2528f98e",
   "metadata": {},
   "source": [
    "### Implement the replay-memory technique"
   ]
  },
  {
   "cell_type": "code",
   "execution_count": 7,
   "id": "ccc6995d",
   "metadata": {},
   "outputs": [],
   "source": [
    "class Replay_buffer():\n",
    "    def __init__(self ,max_size):\n",
    "        self.storage = []\n",
    "        self.max_size = max_size\n",
    "        self.ptr=0\n",
    "        \n",
    "    def push(self,data):\n",
    "        if len(self.storage) == self.max_size:\n",
    "            self.storage[int(self.ptr)] = data\n",
    "            self.ptr = (self.ptr + 1) % self.max_size\n",
    "        else:\n",
    "            self.storage.append(data)\n",
    "    \n",
    "    def sample(self, batch_size):\n",
    "        ind=np.random.randint(0,len(self.storage), size=batch_size)\n",
    "        k=0\n",
    "        for i in ind:\n",
    "            S, S_next, A, R, D =self.storage[i]\n",
    "            if k==0:\n",
    "                s=S\n",
    "                s_next=S_next\n",
    "                a=A\n",
    "                r=R\n",
    "                d=D\n",
    "                k+=1\n",
    "            else:\n",
    "\n",
    "                s=torch.vstack((s,S))\n",
    "                s_next=torch.vstack((s_next,S_next))\n",
    "                a=torch.vstack((a,A))\n",
    "                r=torch.vstack((r,R))\n",
    "                d=torch.vstack((d,D))    \n",
    "        return  s,s_next,a,r,d\n",
    "\n",
    "def getangle(s):\n",
    "    sizes=torch.abs(s)\n",
    "    return torch.tensor([2*torch.acos(sizes[0].type(torch.cfloat)),torch.atan2(torch.imag(s[1].type(torch.cfloat)),torch.real(s[1].type(torch.cfloat)))-torch.atan2(torch.imag(s[0].type(torch.cfloat)),torch.real(s[0].type(torch.cfloat)))])"
   ]
  },
  {
   "cell_type": "code",
   "execution_count": 8,
   "id": "b2463362",
   "metadata": {},
   "outputs": [],
   "source": [
    "class diffQ(nn.Module):\n",
    "    def __init__(self,valuef,policyf):\n",
    "        super().__init__()\n",
    "        self.value=valuef\n",
    "        self.policy=policyf\n",
    "        \n",
    "    def forward(self,s,a, currentq=True):\n",
    "        if currentq==True:\n",
    "            return self.value(s,a)\n",
    "        else:\n",
    "            return self.value(s,self.policy(s))"
   ]
  },
  {
   "cell_type": "markdown",
   "id": "dabfa27b",
   "metadata": {},
   "source": [
    "### Implement DDPG"
   ]
  },
  {
   "cell_type": "code",
   "execution_count": 9,
   "id": "85af3cb1",
   "metadata": {},
   "outputs": [],
   "source": [
    "class DDPG(object):\n",
    "    def __init__(self,max_size=100,learning_rate=1e-3,batch_size=20,gamma=0.997,update_iteration=10,theta=1, tau=1e-3,noise=2*1e-2):\n",
    "        self.policy=policy_nn\n",
    "        self.policy_target=policy_nn\n",
    "        self.value=value_nn\n",
    "        self.value_target=value_nn\n",
    "        self.replay_buffer=Replay_buffer(max_size=max_size)\n",
    "        self.action_operator=action_nn\n",
    "        self.model= diffQ(self.value, self.policy)\n",
    "        self.model.train()\n",
    "        self.opt=optim.Adagrad(self.model.parameters(),lr=learning_rate)\n",
    "        self.inital=False\n",
    "        self.batch_size=batch_size\n",
    "        self.gamma=gamma\n",
    "        self.update_iteration=update_iteration\n",
    "        self.theta=theta\n",
    "        self.tau=tau\n",
    "        self.noise=noise\n",
    "\n",
    "    \n",
    "    def update(self):\n",
    "        for it in range(self.update_iteration):\n",
    "            s, s_next, a, r, d= self.replay_buffer.sample(batch_size=self.batch_size)\n",
    "            a = (a + torch.normal(0, self.noise, size= a.shape))\n",
    "            target_Q=[]\n",
    "            current_Q=[]\n",
    "            value_max=[]\n",
    "            for i in range(self.batch_size):\n",
    "                target_Q.append(self.value_target(torch.concat((getangle(s_next[i]).type(torch.float), getangle(self.policy_target(getangle(s_next[i]).type(torch.float))).type(torch.float))))[0])\n",
    "                current_Q.append(self.value(torch.concat((getangle(s[i]).type(torch.float), getangle(self.policy_target(getangle(s[i]).type(torch.float))).type(torch.float))))[0])\n",
    "                value_max.append(self.value(torch.concat((getangle(s[i]).type(torch.float), getangle(self.policy_target(getangle(s[i]).type(torch.float))).type(torch.float))))[0])\n",
    "            target_Q=torch.tensor(target_Q)\n",
    "            current_Q=torch.tensor(current_Q)\n",
    "            value_max=torch.tensor(value_max)\n",
    "            target_Q = r.type(torch.float)+ self.gamma*target_Q\n",
    "            mse_Q = F.mse_loss(current_Q, target_Q)\n",
    "            mse_Q.requires_grad=True\n",
    "            value_max = - torch.mean(value_max)\n",
    "            value_max.requires_grad=True\n",
    "            self.opt.zero_grad()\n",
    "            mse_Q.backward()\n",
    "            self.opt.step()\n",
    "            self.opt.zero_grad()\n",
    "            value_max.backward()\n",
    "            self.opt.step()\n",
    "            \n",
    "            for param, target_param in zip(self.policy.parameters(), self.policy_target.parameters()):\n",
    "                target_param.data.copy_(self.tau*param.data+(1-self.tau)*target_param)\n",
    "            for param, target_param in zip(self.value.parameters(), self.value_target.parameters()):\n",
    "                target_param.data.copy_(self.tau*param.data+(1-self.tau)*target_param)\n",
    "                \n",
    "    def onetime(self,s,t):\n",
    "        d=torch.zeros((1,))\n",
    "        a=self.policy(getangle(s).type(torch.float))\n",
    "        actioninput=torch.concat((getangle(s).type(torch.float),getangle(a).type(torch.float)))\n",
    "        s_next=self.action_operator(actioninput)\n",
    "        angle=getangle(s)\n",
    "        angle_next=getangle(s_next)\n",
    "        \n",
    "        consume=F.relu((torch.tan(angle[0]-pi/2)-torch.tan(angle_next[0]-pi/2)).type(torch.float))+torch.tan(angle_next[1]/4)\n",
    "        \n",
    "        labor=-(torch.tan((angle[0]-pi/2))-torch.tan((angle_next[0]-pi/2)))+consume\n",
    "        \n",
    "        if t>10:\n",
    "            labor=labor*2\n",
    "        r=torch.log(1e-30+consume.type(torch.float))-(self.theta*labor**2)/2    \n",
    "        if t==19:\n",
    "            if torch.abs(angle_next[0])**2>0.0001:\n",
    "                r=torch.tensor([-100])\n",
    "                d=d+1\n",
    "            return [s,s_next,a,r,d]\n",
    "        else:\n",
    "            return [s,s_next,a,r,d]\n",
    "        \n",
    "    def push_buffer(self,s0):\n",
    "        s=s0\n",
    "        reward=0\n",
    "        for t in range(20):\n",
    "            data=self.onetime(s,t)\n",
    "            self.replay_buffer.push(data)\n",
    "            s=data[1]\n",
    "            reward=reward+data[3]\n",
    "        print(reward)\n",
    "        return reward    "
   ]
  },
  {
   "cell_type": "markdown",
   "id": "f65dd02d",
   "metadata": {},
   "source": [
    "### Run DDPG algorithm to train the policy"
   ]
  },
  {
   "cell_type": "code",
   "execution_count": null,
   "id": "382637dc",
   "metadata": {
    "scrolled": true
   },
   "outputs": [],
   "source": [
    "a=DDPG()\n",
    "reward=[]\n",
    "for i in range(5):\n",
    "    reward.append(a.push_buffer(torch.tensor([1/sqrt(2),1/sqrt(2)])))\n",
    "for epoch in range(100):\n",
    "    a.update()\n",
    "    reward.append(a.push_buffer(torch.tensor([1/sqrt(2),1/sqrt(2)])))"
   ]
  }
 ],
 "metadata": {
  "kernelspec": {
   "display_name": "Kernel_torch",
   "language": "python",
   "name": "torch"
  },
  "language_info": {
   "codemirror_mode": {
    "name": "ipython",
    "version": 3
   },
   "file_extension": ".py",
   "mimetype": "text/x-python",
   "name": "python",
   "nbconvert_exporter": "python",
   "pygments_lexer": "ipython3",
   "version": "3.8.5"
  }
 },
 "nbformat": 4,
 "nbformat_minor": 5
}
